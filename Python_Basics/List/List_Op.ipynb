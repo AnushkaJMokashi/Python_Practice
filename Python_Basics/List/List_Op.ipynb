{
 "cells": [
  {
   "cell_type": "markdown",
   "id": "b8d43b80",
   "metadata": {},
   "source": [
    "# LIST"
   ]
  },
  {
   "cell_type": "code",
   "execution_count": 4,
   "id": "58b83e4c",
   "metadata": {},
   "outputs": [
    {
     "name": "stdout",
     "output_type": "stream",
     "text": [
      "[5, 2, 6, 4]\n"
     ]
    }
   ],
   "source": [
    "list = [5,2,6,4]\n",
    "print(list)"
   ]
  },
  {
   "cell_type": "markdown",
   "id": "3bfeaa46",
   "metadata": {},
   "source": [
    "### List Slicing Operator"
   ]
  },
  {
   "cell_type": "code",
   "execution_count": 7,
   "id": "7afc16a7",
   "metadata": {},
   "outputs": [
    {
     "data": {
      "text/plain": [
       "2"
      ]
     },
     "execution_count": 7,
     "metadata": {},
     "output_type": "execute_result"
    }
   ],
   "source": [
    "list[1]"
   ]
  },
  {
   "cell_type": "code",
   "execution_count": 8,
   "id": "db270d5b",
   "metadata": {},
   "outputs": [
    {
     "data": {
      "text/plain": [
       "[6]"
      ]
     },
     "execution_count": 8,
     "metadata": {},
     "output_type": "execute_result"
    }
   ],
   "source": [
    "list[2:3]"
   ]
  },
  {
   "cell_type": "code",
   "execution_count": 9,
   "id": "272ccd97",
   "metadata": {},
   "outputs": [
    {
     "data": {
      "text/plain": [
       "2"
      ]
     },
     "execution_count": 9,
     "metadata": {},
     "output_type": "execute_result"
    }
   ],
   "source": [
    "list[-3]"
   ]
  },
  {
   "cell_type": "code",
   "execution_count": 10,
   "id": "8469c396",
   "metadata": {},
   "outputs": [
    {
     "data": {
      "text/plain": [
       "[5, 2]"
      ]
     },
     "execution_count": 10,
     "metadata": {},
     "output_type": "execute_result"
    }
   ],
   "source": [
    "list[-4:-2]"
   ]
  },
  {
   "cell_type": "markdown",
   "id": "b3c16352",
   "metadata": {},
   "source": [
    "## List Operations"
   ]
  },
  {
   "cell_type": "code",
   "execution_count": 11,
   "id": "a2e5919a",
   "metadata": {},
   "outputs": [],
   "source": [
    "list.append(7)"
   ]
  },
  {
   "cell_type": "code",
   "execution_count": 12,
   "id": "63456a45",
   "metadata": {},
   "outputs": [
    {
     "data": {
      "text/plain": [
       "[5, 2, 6, 4, 7]"
      ]
     },
     "execution_count": 12,
     "metadata": {},
     "output_type": "execute_result"
    }
   ],
   "source": [
    "list"
   ]
  },
  {
   "cell_type": "code",
   "execution_count": 18,
   "id": "bcd4a0a9",
   "metadata": {},
   "outputs": [
    {
     "data": {
      "text/plain": [
       "[5, 2, 7]"
      ]
     },
     "execution_count": 18,
     "metadata": {},
     "output_type": "execute_result"
    }
   ],
   "source": [
    "list.remove(4)\n",
    "list"
   ]
  },
  {
   "cell_type": "code",
   "execution_count": 19,
   "id": "77b2f9ab",
   "metadata": {},
   "outputs": [
    {
     "data": {
      "text/plain": [
       "0"
      ]
     },
     "execution_count": 19,
     "metadata": {},
     "output_type": "execute_result"
    }
   ],
   "source": [
    "list.index(5)"
   ]
  },
  {
   "cell_type": "code",
   "execution_count": 21,
   "id": "4a53c011",
   "metadata": {},
   "outputs": [
    {
     "data": {
      "text/plain": [
       "[2, 5, 7]"
      ]
     },
     "execution_count": 21,
     "metadata": {},
     "output_type": "execute_result"
    }
   ],
   "source": [
    "list.sort()\n",
    "list"
   ]
  },
  {
   "cell_type": "code",
   "execution_count": 26,
   "id": "c440b644",
   "metadata": {},
   "outputs": [],
   "source": [
    "list_copy = list.copy()"
   ]
  },
  {
   "cell_type": "code",
   "execution_count": 27,
   "id": "f455354a",
   "metadata": {},
   "outputs": [
    {
     "data": {
      "text/plain": [
       "[2, 5, 7]"
      ]
     },
     "execution_count": 27,
     "metadata": {},
     "output_type": "execute_result"
    }
   ],
   "source": [
    "list_copy"
   ]
  },
  {
   "cell_type": "code",
   "execution_count": 28,
   "id": "cffda76b",
   "metadata": {},
   "outputs": [
    {
     "data": {
      "text/plain": [
       "[7, 5, 2]"
      ]
     },
     "execution_count": 28,
     "metadata": {},
     "output_type": "execute_result"
    }
   ],
   "source": [
    "list.reverse()\n",
    "list"
   ]
  },
  {
   "cell_type": "code",
   "execution_count": 34,
   "id": "27f79f35",
   "metadata": {},
   "outputs": [],
   "source": [
    "list1 = [1,9,0,4,5,7,10]\n",
    "list2 = [i for i in range(2,6)]"
   ]
  },
  {
   "cell_type": "code",
   "execution_count": 35,
   "id": "e7909bbf",
   "metadata": {},
   "outputs": [
    {
     "data": {
      "text/plain": [
       "[2, 3, 4, 5]"
      ]
     },
     "execution_count": 35,
     "metadata": {},
     "output_type": "execute_result"
    }
   ],
   "source": [
    "list2"
   ]
  },
  {
   "cell_type": "code",
   "execution_count": 54,
   "id": "9a4d3867",
   "metadata": {},
   "outputs": [],
   "source": [
    "# set1 = {1,2,3}\n",
    "# list3 = []\n",
    "# list3 = list(set1)\n",
    "\n",
    "# ## version Problem"
   ]
  },
  {
   "cell_type": "code",
   "execution_count": 56,
   "id": "a479335b",
   "metadata": {},
   "outputs": [],
   "source": [
    "# my_set = {'Geeks', 'for', 'geeks'}\n",
    "# print(type(my_set))\n",
    " \n",
    "# s = list(my_set)\n",
    "# print(type(s))\n",
    "\n",
    "## version problem\n"
   ]
  },
  {
   "cell_type": "code",
   "execution_count": 46,
   "id": "fa09e005",
   "metadata": {},
   "outputs": [
    {
     "name": "stdout",
     "output_type": "stream",
     "text": [
      "Python 3.9.12\r\n"
     ]
    }
   ],
   "source": [
    "!python --version"
   ]
  },
  {
   "cell_type": "code",
   "execution_count": null,
   "id": "619da19a",
   "metadata": {},
   "outputs": [],
   "source": []
  },
  {
   "cell_type": "code",
   "execution_count": null,
   "id": "f6008154",
   "metadata": {},
   "outputs": [],
   "source": []
  },
  {
   "cell_type": "code",
   "execution_count": null,
   "id": "dd5efc24",
   "metadata": {},
   "outputs": [],
   "source": []
  }
 ],
 "metadata": {
  "kernelspec": {
   "display_name": "Python 3 (ipykernel)",
   "language": "python",
   "name": "python3"
  },
  "language_info": {
   "codemirror_mode": {
    "name": "ipython",
    "version": 3
   },
   "file_extension": ".py",
   "mimetype": "text/x-python",
   "name": "python",
   "nbconvert_exporter": "python",
   "pygments_lexer": "ipython3",
   "version": "3.9.12"
  }
 },
 "nbformat": 4,
 "nbformat_minor": 5
}
