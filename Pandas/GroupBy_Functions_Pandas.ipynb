{
 "cells": [
  {
   "cell_type": "markdown",
   "id": "78b72201-3e28-48dc-a557-fadef0abb6e7",
   "metadata": {},
   "source": [
    "## Group By Functions"
   ]
  },
  {
   "cell_type": "markdown",
   "id": "9460e6e7-840f-427a-afae-4760c4b3d3f6",
   "metadata": {},
   "source": [
    "GroupBy is a powerful function in pandas that allows you to split data into distinct groups based on one or more columns and perform operations on each group independently. It's a fundamental technique for data analysis and summarization."
   ]
  },
  {
   "cell_type": "markdown",
   "id": "42efb19b-450a-46ba-8ef3-e4cc84c2a55c",
   "metadata": {},
   "source": [
    "Here's a step-by-step breakdown of how groupby functions work in pandas:\n",
    "\n",
    "* __Splitting the Data:__  You can group your data based on one or more columns using the .groupby() method. This method takes a column name or a list of column names as input and splits the DataFrame into groups according to the values in those columns.\n",
    "\n",
    "* __Applying a Function:__ Once the data is grouped, you can apply various functions to each group. Pandas offers a variety of built-in aggregation functions like sum(), mean(), count(), etc., that can be used to summarize the data within each group. You can also use custom functions or lambda functions for more specific operations.\n",
    "\n",
    "* __Combining the Results:__ After applying the function to each group, the results are combined into a new DataFrame or Series, depending on the input data and the function used. This new data structure summarizes the data by group."
   ]
  },
  {
   "cell_type": "code",
   "execution_count": 1,
   "id": "1c5a8f14-ee24-4d98-a5df-abfb3b0d5165",
   "metadata": {},
   "outputs": [],
   "source": [
    "import pandas as pd\n",
    "import seaborn as sns\n",
    "import numpy as np"
   ]
  },
  {
   "cell_type": "code",
   "execution_count": 2,
   "id": "e23aadf8-f51b-48ef-b694-e0db57d2a4d1",
   "metadata": {},
   "outputs": [],
   "source": [
    "iris_data = sns.load_dataset('iris')"
   ]
  },
  {
   "cell_type": "markdown",
   "id": "fd37c0e9-8792-45cd-a4f8-12a015bcbb7a",
   "metadata": {},
   "source": [
    "This line loads the built-in Iris dataset from seaborn and stores it in a pandas DataFrame named iris_data. The Iris dataset contains measurements of flower sepal and petal dimensions for three Iris species (Setosa, Versicolor, Virginica)."
   ]
  },
  {
   "cell_type": "code",
   "execution_count": 3,
   "id": "eaf4a7ea-878e-4726-a19f-afbe0b5dcac6",
   "metadata": {},
   "outputs": [
    {
     "data": {
      "text/html": [
       "<div>\n",
       "<style scoped>\n",
       "    .dataframe tbody tr th:only-of-type {\n",
       "        vertical-align: middle;\n",
       "    }\n",
       "\n",
       "    .dataframe tbody tr th {\n",
       "        vertical-align: top;\n",
       "    }\n",
       "\n",
       "    .dataframe thead th {\n",
       "        text-align: right;\n",
       "    }\n",
       "</style>\n",
       "<table border=\"1\" class=\"dataframe\">\n",
       "  <thead>\n",
       "    <tr style=\"text-align: right;\">\n",
       "      <th></th>\n",
       "      <th>sepal_length</th>\n",
       "      <th>sepal_width</th>\n",
       "      <th>petal_length</th>\n",
       "      <th>petal_width</th>\n",
       "      <th>species</th>\n",
       "    </tr>\n",
       "  </thead>\n",
       "  <tbody>\n",
       "    <tr>\n",
       "      <th>0</th>\n",
       "      <td>5.1</td>\n",
       "      <td>3.5</td>\n",
       "      <td>1.4</td>\n",
       "      <td>0.2</td>\n",
       "      <td>setosa</td>\n",
       "    </tr>\n",
       "    <tr>\n",
       "      <th>1</th>\n",
       "      <td>4.9</td>\n",
       "      <td>3.0</td>\n",
       "      <td>1.4</td>\n",
       "      <td>0.2</td>\n",
       "      <td>setosa</td>\n",
       "    </tr>\n",
       "    <tr>\n",
       "      <th>2</th>\n",
       "      <td>4.7</td>\n",
       "      <td>3.2</td>\n",
       "      <td>1.3</td>\n",
       "      <td>0.2</td>\n",
       "      <td>setosa</td>\n",
       "    </tr>\n",
       "    <tr>\n",
       "      <th>3</th>\n",
       "      <td>4.6</td>\n",
       "      <td>3.1</td>\n",
       "      <td>1.5</td>\n",
       "      <td>0.2</td>\n",
       "      <td>setosa</td>\n",
       "    </tr>\n",
       "    <tr>\n",
       "      <th>4</th>\n",
       "      <td>5.0</td>\n",
       "      <td>3.6</td>\n",
       "      <td>1.4</td>\n",
       "      <td>0.2</td>\n",
       "      <td>setosa</td>\n",
       "    </tr>\n",
       "    <tr>\n",
       "      <th>...</th>\n",
       "      <td>...</td>\n",
       "      <td>...</td>\n",
       "      <td>...</td>\n",
       "      <td>...</td>\n",
       "      <td>...</td>\n",
       "    </tr>\n",
       "    <tr>\n",
       "      <th>145</th>\n",
       "      <td>6.7</td>\n",
       "      <td>3.0</td>\n",
       "      <td>5.2</td>\n",
       "      <td>2.3</td>\n",
       "      <td>virginica</td>\n",
       "    </tr>\n",
       "    <tr>\n",
       "      <th>146</th>\n",
       "      <td>6.3</td>\n",
       "      <td>2.5</td>\n",
       "      <td>5.0</td>\n",
       "      <td>1.9</td>\n",
       "      <td>virginica</td>\n",
       "    </tr>\n",
       "    <tr>\n",
       "      <th>147</th>\n",
       "      <td>6.5</td>\n",
       "      <td>3.0</td>\n",
       "      <td>5.2</td>\n",
       "      <td>2.0</td>\n",
       "      <td>virginica</td>\n",
       "    </tr>\n",
       "    <tr>\n",
       "      <th>148</th>\n",
       "      <td>6.2</td>\n",
       "      <td>3.4</td>\n",
       "      <td>5.4</td>\n",
       "      <td>2.3</td>\n",
       "      <td>virginica</td>\n",
       "    </tr>\n",
       "    <tr>\n",
       "      <th>149</th>\n",
       "      <td>5.9</td>\n",
       "      <td>3.0</td>\n",
       "      <td>5.1</td>\n",
       "      <td>1.8</td>\n",
       "      <td>virginica</td>\n",
       "    </tr>\n",
       "  </tbody>\n",
       "</table>\n",
       "<p>150 rows × 5 columns</p>\n",
       "</div>"
      ],
      "text/plain": [
       "     sepal_length  sepal_width  petal_length  petal_width    species\n",
       "0             5.1          3.5           1.4          0.2     setosa\n",
       "1             4.9          3.0           1.4          0.2     setosa\n",
       "2             4.7          3.2           1.3          0.2     setosa\n",
       "3             4.6          3.1           1.5          0.2     setosa\n",
       "4             5.0          3.6           1.4          0.2     setosa\n",
       "..            ...          ...           ...          ...        ...\n",
       "145           6.7          3.0           5.2          2.3  virginica\n",
       "146           6.3          2.5           5.0          1.9  virginica\n",
       "147           6.5          3.0           5.2          2.0  virginica\n",
       "148           6.2          3.4           5.4          2.3  virginica\n",
       "149           5.9          3.0           5.1          1.8  virginica\n",
       "\n",
       "[150 rows x 5 columns]"
      ]
     },
     "execution_count": 3,
     "metadata": {},
     "output_type": "execute_result"
    }
   ],
   "source": [
    "iris_data"
   ]
  },
  {
   "cell_type": "code",
   "execution_count": 4,
   "id": "c37bdf1b-b500-4044-9602-1daea28c4dd6",
   "metadata": {},
   "outputs": [
    {
     "data": {
      "text/html": [
       "<div>\n",
       "<style scoped>\n",
       "    .dataframe tbody tr th:only-of-type {\n",
       "        vertical-align: middle;\n",
       "    }\n",
       "\n",
       "    .dataframe tbody tr th {\n",
       "        vertical-align: top;\n",
       "    }\n",
       "\n",
       "    .dataframe thead th {\n",
       "        text-align: right;\n",
       "    }\n",
       "</style>\n",
       "<table border=\"1\" class=\"dataframe\">\n",
       "  <thead>\n",
       "    <tr style=\"text-align: right;\">\n",
       "      <th></th>\n",
       "      <th>sepal_length</th>\n",
       "      <th>sepal_width</th>\n",
       "      <th>petal_length</th>\n",
       "      <th>petal_width</th>\n",
       "    </tr>\n",
       "    <tr>\n",
       "      <th>species</th>\n",
       "      <th></th>\n",
       "      <th></th>\n",
       "      <th></th>\n",
       "      <th></th>\n",
       "    </tr>\n",
       "  </thead>\n",
       "  <tbody>\n",
       "    <tr>\n",
       "      <th>setosa</th>\n",
       "      <td>50</td>\n",
       "      <td>50</td>\n",
       "      <td>50</td>\n",
       "      <td>50</td>\n",
       "    </tr>\n",
       "    <tr>\n",
       "      <th>versicolor</th>\n",
       "      <td>50</td>\n",
       "      <td>50</td>\n",
       "      <td>50</td>\n",
       "      <td>50</td>\n",
       "    </tr>\n",
       "    <tr>\n",
       "      <th>virginica</th>\n",
       "      <td>50</td>\n",
       "      <td>50</td>\n",
       "      <td>50</td>\n",
       "      <td>50</td>\n",
       "    </tr>\n",
       "  </tbody>\n",
       "</table>\n",
       "</div>"
      ],
      "text/plain": [
       "            sepal_length  sepal_width  petal_length  petal_width\n",
       "species                                                         \n",
       "setosa                50           50            50           50\n",
       "versicolor            50           50            50           50\n",
       "virginica             50           50            50           50"
      ]
     },
     "execution_count": 4,
     "metadata": {},
     "output_type": "execute_result"
    }
   ],
   "source": [
    "iris_data.groupby(['species']).count()"
   ]
  },
  {
   "cell_type": "markdown",
   "id": "28e08253-3eb6-47ce-896e-0321e303c011",
   "metadata": {},
   "source": [
    "* We group the data by the 'species' column.\n",
    "count() is applied to each group, which counts the number of occurrences (rows) in each species category.\n",
    "* The output (species_counts) is a DataFrame showing the count of each species in the dataset."
   ]
  },
  {
   "cell_type": "code",
   "execution_count": 5,
   "id": "48b5cb6b-ab5c-40ac-8bf7-a75ad564f212",
   "metadata": {},
   "outputs": [
    {
     "data": {
      "text/plain": [
       "species\n",
       "setosa        5.006\n",
       "versicolor    5.936\n",
       "virginica     6.588\n",
       "Name: sepal_length, dtype: float64"
      ]
     },
     "execution_count": 5,
     "metadata": {},
     "output_type": "execute_result"
    }
   ],
   "source": [
    "iris_data.groupby([\"species\"])[\"sepal_length\"].mean()"
   ]
  },
  {
   "cell_type": "markdown",
   "id": "c36eb7c6-d3cd-4bfb-a7d9-b207796189ab",
   "metadata": {},
   "source": [
    "* This groups the data by 'species' and selects the 'sepal_length' column.\n",
    "mean() calculates the average sepal length for each species group.\n",
    "* The output (species_means) is a Series containing the mean sepal length for each species."
   ]
  },
  {
   "cell_type": "code",
   "execution_count": 6,
   "id": "6ef939c5-f116-48fb-8c37-87ffd8e387c3",
   "metadata": {},
   "outputs": [
    {
     "data": {
      "text/plain": [
       "species\n",
       "setosa        0.352490\n",
       "versicolor    0.516171\n",
       "virginica     0.635880\n",
       "Name: sepal_length, dtype: float64"
      ]
     },
     "execution_count": 6,
     "metadata": {},
     "output_type": "execute_result"
    }
   ],
   "source": [
    "iris_data.groupby([\"species\"])[\"sepal_length\"].std()"
   ]
  },
  {
   "cell_type": "markdown",
   "id": "4a8491af-4d2d-4ca8-860f-c149ad7a6ff7",
   "metadata": {},
   "source": [
    "* Similar to the previous line, this groups by 'species' and selects the 'sepal_length' column.\n",
    "However, it calculates the standard deviation (spread) of sepal length for each species group using std().\n",
    "* The output (species_std) is a Series containing the standard deviation of sepal length for each species"
   ]
  },
  {
   "cell_type": "code",
   "execution_count": 7,
   "id": "9b383a24-fb73-4395-b1dc-63ff540ff73c",
   "metadata": {},
   "outputs": [
    {
     "data": {
      "text/html": [
       "<div>\n",
       "<style scoped>\n",
       "    .dataframe tbody tr th:only-of-type {\n",
       "        vertical-align: middle;\n",
       "    }\n",
       "\n",
       "    .dataframe tbody tr th {\n",
       "        vertical-align: top;\n",
       "    }\n",
       "\n",
       "    .dataframe thead th {\n",
       "        text-align: right;\n",
       "    }\n",
       "</style>\n",
       "<table border=\"1\" class=\"dataframe\">\n",
       "  <thead>\n",
       "    <tr style=\"text-align: right;\">\n",
       "      <th></th>\n",
       "      <th>count</th>\n",
       "      <th>mean</th>\n",
       "      <th>std</th>\n",
       "      <th>min</th>\n",
       "      <th>25%</th>\n",
       "      <th>50%</th>\n",
       "      <th>75%</th>\n",
       "      <th>max</th>\n",
       "    </tr>\n",
       "    <tr>\n",
       "      <th>species</th>\n",
       "      <th></th>\n",
       "      <th></th>\n",
       "      <th></th>\n",
       "      <th></th>\n",
       "      <th></th>\n",
       "      <th></th>\n",
       "      <th></th>\n",
       "      <th></th>\n",
       "    </tr>\n",
       "  </thead>\n",
       "  <tbody>\n",
       "    <tr>\n",
       "      <th>setosa</th>\n",
       "      <td>50.0</td>\n",
       "      <td>5.006</td>\n",
       "      <td>0.352490</td>\n",
       "      <td>4.3</td>\n",
       "      <td>4.800</td>\n",
       "      <td>5.0</td>\n",
       "      <td>5.2</td>\n",
       "      <td>5.8</td>\n",
       "    </tr>\n",
       "    <tr>\n",
       "      <th>versicolor</th>\n",
       "      <td>50.0</td>\n",
       "      <td>5.936</td>\n",
       "      <td>0.516171</td>\n",
       "      <td>4.9</td>\n",
       "      <td>5.600</td>\n",
       "      <td>5.9</td>\n",
       "      <td>6.3</td>\n",
       "      <td>7.0</td>\n",
       "    </tr>\n",
       "    <tr>\n",
       "      <th>virginica</th>\n",
       "      <td>50.0</td>\n",
       "      <td>6.588</td>\n",
       "      <td>0.635880</td>\n",
       "      <td>4.9</td>\n",
       "      <td>6.225</td>\n",
       "      <td>6.5</td>\n",
       "      <td>6.9</td>\n",
       "      <td>7.9</td>\n",
       "    </tr>\n",
       "  </tbody>\n",
       "</table>\n",
       "</div>"
      ],
      "text/plain": [
       "            count   mean       std  min    25%  50%  75%  max\n",
       "species                                                      \n",
       "setosa       50.0  5.006  0.352490  4.3  4.800  5.0  5.2  5.8\n",
       "versicolor   50.0  5.936  0.516171  4.9  5.600  5.9  6.3  7.0\n",
       "virginica    50.0  6.588  0.635880  4.9  6.225  6.5  6.9  7.9"
      ]
     },
     "execution_count": 7,
     "metadata": {},
     "output_type": "execute_result"
    }
   ],
   "source": [
    "iris_data.groupby([\"species\"])[\"sepal_length\"].describe()"
   ]
  },
  {
   "cell_type": "markdown",
   "id": "9618dea1-b32e-4aee-a2ec-e89edf1f29d2",
   "metadata": {},
   "source": [
    "* This line uses describe() to generate a more comprehensive summary of sepal length for each species group.\n",
    "* It provides statistics like count, mean, standard deviation, minimum, maximum, percentiles, etc.\n",
    "The output (species_descriptions) is a DataFrame containing these descriptive statistics for each species."
   ]
  },
  {
   "cell_type": "code",
   "execution_count": 8,
   "id": "c970d297-d791-4c66-92d8-0f8b0e6a69f8",
   "metadata": {},
   "outputs": [
    {
     "data": {
      "text/plain": [
       "species\n",
       "setosa        4.800\n",
       "versicolor    5.600\n",
       "virginica     6.225\n",
       "Name: sepal_length, dtype: float64"
      ]
     },
     "execution_count": 8,
     "metadata": {},
     "output_type": "execute_result"
    }
   ],
   "source": [
    "iris_data.groupby([\"species\"])[\"sepal_length\"].quantile(q=0.25)"
   ]
  },
  {
   "cell_type": "code",
   "execution_count": 9,
   "id": "4ef5868a-22f3-4538-be82-29f347a0e597",
   "metadata": {},
   "outputs": [
    {
     "data": {
      "text/plain": [
       "species\n",
       "setosa        5.2\n",
       "versicolor    6.3\n",
       "virginica     6.9\n",
       "Name: sepal_length, dtype: float64"
      ]
     },
     "execution_count": 9,
     "metadata": {},
     "output_type": "execute_result"
    }
   ],
   "source": [
    "iris_data.groupby([\"species\"])[\"sepal_length\"].quantile(q=0.75)"
   ]
  },
  {
   "cell_type": "markdown",
   "id": "df664e2c-58a3-41ae-8c91-685666411147",
   "metadata": {},
   "source": [
    "* Above code calculate the quartiles (25th percentile and 75th percentile) of sepal length for each species group.\n",
    "* quantile(q=0.25) gives the 25th percentile, which represents the value below which 25% of the data points lie.\n",
    "* quantile(q=0.75) gives the 75th percentile, which represents the value below which 75% of the data points lie.\n",
    "* The outputs (species_q1 and species_q3) are Series containing the respective quartile values for each species."
   ]
  },
  {
   "cell_type": "markdown",
   "id": "be831ffd-bb53-4bdf-83fc-bae2f4802caa",
   "metadata": {},
   "source": [
    "## Custom Function For Group By"
   ]
  },
  {
   "cell_type": "code",
   "execution_count": 10,
   "id": "82785a3a-7d9d-4064-b06b-6dd2c924f13b",
   "metadata": {},
   "outputs": [],
   "source": [
    "nc = ['sepal_length', 'sepal_width', 'petal_length', 'petal_width','species']"
   ]
  },
  {
   "cell_type": "code",
   "execution_count": 11,
   "id": "c3130e7f-ec43-4041-b546-14ad6d45c4ee",
   "metadata": {},
   "outputs": [
    {
     "data": {
      "text/plain": [
       "['sepal_length', 'sepal_width', 'petal_length', 'petal_width', 'species']"
      ]
     },
     "execution_count": 11,
     "metadata": {},
     "output_type": "execute_result"
    }
   ],
   "source": [
    "nc"
   ]
  },
  {
   "cell_type": "code",
   "execution_count": 12,
   "id": "9491c9bb-9762-4544-8334-a80642f684d2",
   "metadata": {},
   "outputs": [],
   "source": [
    "nc = ['sepal_length', 'sepal_width', 'petal_length', 'petal_width']\n",
    "def species_stats(species_data,species_name):\n",
    "        print(\"Species Name: {}\".format(species_name))\n",
    "        print()\n",
    "        print(\"Mean:\\n\",species_data[nc].mean())\n",
    "        print()\n",
    "        print(\"Median:\\n\",species_data[nc].median())\n",
    "        print()\n",
    "        print(\"std:\\n\",species_data[nc].std())\n",
    "        print()\n",
    "        print(\"25% percentile:\\n\",species_data[nc].quantile(0.25))\n",
    "        print()\n",
    "        print(\"75% percentile:\\n\",species_data[nc].quantile(0.75))\n",
    "        print()\n",
    "        print(\"Min:\\n\",species_data[nc].min())\n",
    "        print()\n",
    "        print(\"Max:\\n\",species_data[nc].max())\n",
    "        print()"
   ]
  },
  {
   "cell_type": "code",
   "execution_count": 13,
   "id": "e570e7bb-7508-47a8-a6f6-b2f924cf42be",
   "metadata": {},
   "outputs": [],
   "source": [
    "setosa_data = iris_data[iris_data['species'] == 'setosa']"
   ]
  },
  {
   "cell_type": "code",
   "execution_count": 14,
   "id": "1bd040a6-13a3-4b0e-ab68-6c05fd7e53ec",
   "metadata": {},
   "outputs": [],
   "source": [
    "versicolor_data = iris_data[iris_data['species'] == 'versicolor']"
   ]
  },
  {
   "cell_type": "code",
   "execution_count": 15,
   "id": "270f32f5-9132-484e-b381-b2b57bb51c47",
   "metadata": {},
   "outputs": [],
   "source": [
    "virginica_data = iris_data[iris_data['species'] == 'virginica']"
   ]
  },
  {
   "cell_type": "code",
   "execution_count": 16,
   "id": "79fccc6d-b98f-462c-ae5e-5e8a1e6070d8",
   "metadata": {},
   "outputs": [
    {
     "name": "stdout",
     "output_type": "stream",
     "text": [
      "************** Species name setosa_data *****************\n",
      "Species Name: setosa_data\n",
      "\n",
      "Mean:\n",
      " sepal_length    5.006\n",
      "sepal_width     3.428\n",
      "petal_length    1.462\n",
      "petal_width     0.246\n",
      "dtype: float64\n",
      "\n",
      "Median:\n",
      " sepal_length    5.0\n",
      "sepal_width     3.4\n",
      "petal_length    1.5\n",
      "petal_width     0.2\n",
      "dtype: float64\n",
      "\n",
      "std:\n",
      " sepal_length    0.352490\n",
      "sepal_width     0.379064\n",
      "petal_length    0.173664\n",
      "petal_width     0.105386\n",
      "dtype: float64\n",
      "\n",
      "25% percentile:\n",
      " sepal_length    4.8\n",
      "sepal_width     3.2\n",
      "petal_length    1.4\n",
      "petal_width     0.2\n",
      "Name: 0.25, dtype: float64\n",
      "\n",
      "75% percentile:\n",
      " sepal_length    5.200\n",
      "sepal_width     3.675\n",
      "petal_length    1.575\n",
      "petal_width     0.300\n",
      "Name: 0.75, dtype: float64\n",
      "\n",
      "Min:\n",
      " sepal_length    4.3\n",
      "sepal_width     2.3\n",
      "petal_length    1.0\n",
      "petal_width     0.1\n",
      "dtype: float64\n",
      "\n",
      "Max:\n",
      " sepal_length    5.8\n",
      "sepal_width     4.4\n",
      "petal_length    1.9\n",
      "petal_width     0.6\n",
      "dtype: float64\n",
      "\n",
      "------------------------------------\n",
      "************** Species name viginica_data *****************\n",
      "Species Name: viginica_data\n",
      "\n",
      "Mean:\n",
      " sepal_length    5.006\n",
      "sepal_width     3.428\n",
      "petal_length    1.462\n",
      "petal_width     0.246\n",
      "dtype: float64\n",
      "\n",
      "Median:\n",
      " sepal_length    5.0\n",
      "sepal_width     3.4\n",
      "petal_length    1.5\n",
      "petal_width     0.2\n",
      "dtype: float64\n",
      "\n",
      "std:\n",
      " sepal_length    0.352490\n",
      "sepal_width     0.379064\n",
      "petal_length    0.173664\n",
      "petal_width     0.105386\n",
      "dtype: float64\n",
      "\n",
      "25% percentile:\n",
      " sepal_length    4.8\n",
      "sepal_width     3.2\n",
      "petal_length    1.4\n",
      "petal_width     0.2\n",
      "Name: 0.25, dtype: float64\n",
      "\n",
      "75% percentile:\n",
      " sepal_length    5.200\n",
      "sepal_width     3.675\n",
      "petal_length    1.575\n",
      "petal_width     0.300\n",
      "Name: 0.75, dtype: float64\n",
      "\n",
      "Min:\n",
      " sepal_length    4.3\n",
      "sepal_width     2.3\n",
      "petal_length    1.0\n",
      "petal_width     0.1\n",
      "dtype: float64\n",
      "\n",
      "Max:\n",
      " sepal_length    5.8\n",
      "sepal_width     4.4\n",
      "petal_length    1.9\n",
      "petal_width     0.6\n",
      "dtype: float64\n",
      "\n",
      "------------------------------------\n",
      "************** Species name versicolor_data *****************\n",
      "Species Name: versicolor_data\n",
      "\n",
      "Mean:\n",
      " sepal_length    5.006\n",
      "sepal_width     3.428\n",
      "petal_length    1.462\n",
      "petal_width     0.246\n",
      "dtype: float64\n",
      "\n",
      "Median:\n",
      " sepal_length    5.0\n",
      "sepal_width     3.4\n",
      "petal_length    1.5\n",
      "petal_width     0.2\n",
      "dtype: float64\n",
      "\n",
      "std:\n",
      " sepal_length    0.352490\n",
      "sepal_width     0.379064\n",
      "petal_length    0.173664\n",
      "petal_width     0.105386\n",
      "dtype: float64\n",
      "\n",
      "25% percentile:\n",
      " sepal_length    4.8\n",
      "sepal_width     3.2\n",
      "petal_length    1.4\n",
      "petal_width     0.2\n",
      "Name: 0.25, dtype: float64\n",
      "\n",
      "75% percentile:\n",
      " sepal_length    5.200\n",
      "sepal_width     3.675\n",
      "petal_length    1.575\n",
      "petal_width     0.300\n",
      "Name: 0.75, dtype: float64\n",
      "\n",
      "Min:\n",
      " sepal_length    4.3\n",
      "sepal_width     2.3\n",
      "petal_length    1.0\n",
      "petal_width     0.1\n",
      "dtype: float64\n",
      "\n",
      "Max:\n",
      " sepal_length    5.8\n",
      "sepal_width     4.4\n",
      "petal_length    1.9\n",
      "petal_width     0.6\n",
      "dtype: float64\n",
      "\n",
      "------------------------------------\n"
     ]
    }
   ],
   "source": [
    "species_data_names = ['setosa_data','viginica_data','versicolor_data']\n",
    "for data in species_data_names:\n",
    "    print(\"************** Species name {} *****************\".format(data))\n",
    "    species_stats(setosa_data,data)\n",
    "    print(\"------------------------------------\")"
   ]
  }
 ],
 "metadata": {
  "kernelspec": {
   "display_name": "Python 3 (ipykernel)",
   "language": "python",
   "name": "python3"
  },
  "language_info": {
   "codemirror_mode": {
    "name": "ipython",
    "version": 3
   },
   "file_extension": ".py",
   "mimetype": "text/x-python",
   "name": "python",
   "nbconvert_exporter": "python",
   "pygments_lexer": "ipython3",
   "version": "3.10.4"
  },
  "widgets": {
   "application/vnd.jupyter.widget-state+json": {
    "state": {},
    "version_major": 2,
    "version_minor": 0
   }
  }
 },
 "nbformat": 4,
 "nbformat_minor": 5
}
