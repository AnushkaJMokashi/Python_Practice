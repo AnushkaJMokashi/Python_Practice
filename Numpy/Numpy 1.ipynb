{
 "cells": [
  {
   "cell_type": "code",
   "execution_count": 1,
   "id": "b8d82d23",
   "metadata": {},
   "outputs": [],
   "source": [
    "import numpy as np\n",
    "import time \n",
    "import sys"
   ]
  },
  {
   "cell_type": "code",
   "execution_count": 2,
   "id": "2ee94d09",
   "metadata": {},
   "outputs": [
    {
     "name": "stdout",
     "output_type": "stream",
     "text": [
      "28000\n"
     ]
    }
   ],
   "source": [
    "l = range(1000)\n",
    "print(sys.getsizeof(5)*len(l))"
   ]
  },
  {
   "cell_type": "code",
   "execution_count": 3,
   "id": "b235e53a",
   "metadata": {},
   "outputs": [
    {
     "name": "stdout",
     "output_type": "stream",
     "text": [
      "4000\n"
     ]
    }
   ],
   "source": [
    "array = np.arange(1000)\n",
    "print(array.size*array.itemsize)"
   ]
  },
  {
   "cell_type": "code",
   "execution_count": 17,
   "id": "8896614d",
   "metadata": {},
   "outputs": [],
   "source": [
    "SIZE = 100000000\n"
   ]
  },
  {
   "cell_type": "code",
   "execution_count": 18,
   "id": "e6597ca5",
   "metadata": {},
   "outputs": [],
   "source": [
    "l1 = range(SIZE)\n",
    "l2 = range(SIZE)"
   ]
  },
  {
   "cell_type": "code",
   "execution_count": 19,
   "id": "502cd057",
   "metadata": {},
   "outputs": [],
   "source": [
    "a1 = np.arange(SIZE)\n",
    "a2 = np.arange(SIZE)"
   ]
  },
  {
   "cell_type": "code",
   "execution_count": 20,
   "id": "9775cd9e",
   "metadata": {},
   "outputs": [],
   "source": [
    "start = time.time()"
   ]
  },
  {
   "cell_type": "code",
   "execution_count": 21,
   "id": "73c3e21b",
   "metadata": {},
   "outputs": [],
   "source": [
    "result = [(x+y) for x,y in zip(l1,l2)]"
   ]
  },
  {
   "cell_type": "code",
   "execution_count": 22,
   "id": "0dce45c7",
   "metadata": {},
   "outputs": [
    {
     "name": "stdout",
     "output_type": "stream",
     "text": [
      "python list took :  24.17679524421692\n"
     ]
    }
   ],
   "source": [
    "print(\"python list took : \", (time.time()-start))"
   ]
  },
  {
   "cell_type": "code",
   "execution_count": 23,
   "id": "f83c8ada",
   "metadata": {},
   "outputs": [],
   "source": [
    "startnp = time.time()"
   ]
  },
  {
   "cell_type": "code",
   "execution_count": 24,
   "id": "49e2d7b5",
   "metadata": {},
   "outputs": [],
   "source": [
    "resultnp = a1 + a2"
   ]
  },
  {
   "cell_type": "code",
   "execution_count": 25,
   "id": "cac83fd1",
   "metadata": {},
   "outputs": [
    {
     "name": "stdout",
     "output_type": "stream",
     "text": [
      "Numpy list Took :  24.626733541488647\n"
     ]
    }
   ],
   "source": [
    "print(\"Numpy list Took : \",(time.time()-start))"
   ]
  },
  {
   "cell_type": "code",
   "execution_count": 26,
   "id": "8c29dc24",
   "metadata": {},
   "outputs": [
    {
     "data": {
      "text/plain": [
       "array([        0,         2,         4, ..., 199999994, 199999996,\n",
       "       199999998])"
      ]
     },
     "execution_count": 26,
     "metadata": {},
     "output_type": "execute_result"
    }
   ],
   "source": [
    "a1+a2"
   ]
  },
  {
   "cell_type": "code",
   "execution_count": 27,
   "id": "8f0aa78e",
   "metadata": {},
   "outputs": [
    {
     "data": {
      "text/plain": [
       "array([0, 0, 0, ..., 0, 0, 0])"
      ]
     },
     "execution_count": 27,
     "metadata": {},
     "output_type": "execute_result"
    }
   ],
   "source": [
    "a1-a2"
   ]
  },
  {
   "cell_type": "code",
   "execution_count": null,
   "id": "f4646391",
   "metadata": {},
   "outputs": [],
   "source": []
  }
 ],
 "metadata": {
  "kernelspec": {
   "display_name": "Python 3 (ipykernel)",
   "language": "python",
   "name": "python3"
  },
  "language_info": {
   "codemirror_mode": {
    "name": "ipython",
    "version": 3
   },
   "file_extension": ".py",
   "mimetype": "text/x-python",
   "name": "python",
   "nbconvert_exporter": "python",
   "pygments_lexer": "ipython3",
   "version": "3.10.4"
  }
 },
 "nbformat": 4,
 "nbformat_minor": 5
}
